{
  "nbformat": 4,
  "nbformat_minor": 0,
  "metadata": {
    "colab": {
      "provenance": []
    },
    "kernelspec": {
      "name": "python3",
      "display_name": "Python 3"
    },
    "language_info": {
      "name": "python"
    }
  },
  "cells": [
    {
      "cell_type": "markdown",
      "source": [
        "### **Estrutura Sequencial**\n",
        "\n",
        "Exercícios de Python recomendados pelo Python Brasil no link abaixo:\n",
        "https://wiki.python.org.br/EstruturaSequencial\n",
        "\n",
        "\n",
        "\n",
        "---\n",
        "\n",
        "\n",
        "Essas são minhas respostas para os problemas propostos.\n",
        "(https://github.com/luisasegati)\n",
        "\n",
        "---\n",
        "\n",
        "\n",
        "**Observação:** Questões mais simples não necessariamente seguirão um padrão, para que seja possível testar legibilidade e velocidade de execução em ms."
      ],
      "metadata": {
        "id": "4TEktjVADN8c"
      }
    },
    {
      "cell_type": "code",
      "source": [
        "#1. Faça um Programa que mostre a mensagem \"Alo mundo\" na tela.\n",
        "\n",
        "print('Alo mundo')"
      ],
      "metadata": {
        "id": "p39c3ZcZDUm-"
      },
      "execution_count": null,
      "outputs": []
    },
    {
      "cell_type": "code",
      "source": [
        "#2. Faça um Programa que peça um número e então mostre a mensagem O número informado foi [número].\n",
        "\n",
        "numero = int(input('Digite um numero inteiro qualquer: '))\n",
        "print('O numero digitado foi: {}'.format(numero))"
      ],
      "metadata": {
        "id": "sAe4QXTSGf7T"
      },
      "execution_count": null,
      "outputs": []
    },
    {
      "cell_type": "code",
      "source": [
        "#3. Faça um Programa que peça dois números e imprima a soma.\n",
        "\n",
        "num1 = int(input(\"Digite o primeiro numero para a soma: \"))\n",
        "num2 = int(input(\"Digite o segundo numero para a soma: \"))\n",
        "soma = num1 + num2\n",
        "\n",
        "print('A soma entre {0} e {1} é igual a {2}'.format(num1, num2, soma))"
      ],
      "metadata": {
        "id": "Cn9DMRCmHJ00"
      },
      "execution_count": null,
      "outputs": []
    },
    {
      "cell_type": "code",
      "source": [
        "#4. Faça um Programa que peça as 4 notas bimestrais e mostre a média.\n",
        "\n",
        "n1 = float(input('Digite a primeira nota: '))\n",
        "n2 = float(input('Digite a segunda nota: '))\n",
        "n3 = float(input('Digite a terceira nota: '))\n",
        "n4 = float(input('Digite a quarta nota: '))\n",
        "\n",
        "media = (n1 + n2 + n3 + n4) / 4\n",
        "\n",
        "print('A media das notas informadas eh: {}'. format(media))"
      ],
      "metadata": {
        "id": "hG7GgWH2H39S"
      },
      "execution_count": null,
      "outputs": []
    },
    {
      "cell_type": "code",
      "source": [
        "#5. Faça um Programa que converta metros para centímetros.\n",
        "\n",
        "m = float(input('Digite o valor em m a ser convertido em cm: '))\n",
        "cm = m * 100\n",
        "\n",
        "print(f'{m} metros equivale a {cm} cm')"
      ],
      "metadata": {
        "id": "Q77mMi7QIUwq"
      },
      "execution_count": null,
      "outputs": []
    },
    {
      "cell_type": "code",
      "source": [
        "#6. Faça um Programa que peça o raio de um círculo, calcule e mostre sua área.\n",
        "\n",
        "import math\n",
        "\n",
        "raio = float(input('Digite o raio: '))\n",
        "area = math.pi * raio * raio\n",
        "print(f'A area do circulo eh: {area}')"
      ],
      "metadata": {
        "id": "UZyTSy9Q014-"
      },
      "execution_count": null,
      "outputs": []
    },
    {
      "cell_type": "code",
      "source": [
        "#7. Faça um Programa que calcule a área de um quadrado, em seguida mostre o dobro desta área para o usuário.\n",
        "\n",
        "lado = float(input('Qual a altura/largura do quadrado? '))\n",
        "\n",
        "#Área do quadrado b*h.\n",
        "area = lado * lado\n",
        "\n",
        "print(f'Area do quadrado informado eh: {area}')\n",
        "print(f'Dobro dessa area eh: {area * 2}')"
      ],
      "metadata": {
        "id": "tJ94Hicj1e_V"
      },
      "execution_count": null,
      "outputs": []
    },
    {
      "cell_type": "code",
      "source": [
        "#8. Faça um Programa que pergunte quanto você ganha por hora e o número de horas trabalhadas no mês. Calcule e mostre o total do seu salário no referido mês.\n",
        "\n",
        "salario = float(input('Quanto você ganha por hora? '))\n",
        "horas = float(input('Quantas horas trabalhou no mês? '))\n",
        "\n",
        "print(f'Seu salario no mês foi de: R$ {salario*horas}')"
      ],
      "metadata": {
        "id": "YiG_SNqkF9NW"
      },
      "execution_count": null,
      "outputs": []
    },
    {
      "cell_type": "code",
      "source": [
        "#9.Faça um Programa que peça a temperatura em graus Fahrenheit, transforme e mostre a temperatura em graus Celsius.\n",
        "#C = 5 * ((F-32) / 9).\n",
        "\n",
        "F = float(input('Digite a temperatura em Fahrenheit: '))\n",
        "C = 5 * ((F-32) / 9)\n",
        "print(f'A temperatura em Celsius eh: {C} °C')"
      ],
      "metadata": {
        "id": "R_wfgE4bGOBd"
      },
      "execution_count": null,
      "outputs": []
    },
    {
      "cell_type": "code",
      "source": [
        "#10. Faça um Programa que peça a temperatura em graus Celsius, transforme e mostre em graus Fahrenheit.\n",
        "\n",
        "C = float(input('Digite a temperatura em graus Celsius: '))\n",
        "F = (C * 1.8) + 32\n",
        "\n",
        "print(f'A temperatura em Fahrenheit eh: {F} °F')"
      ],
      "metadata": {
        "id": "dH5FZROtGbje"
      },
      "execution_count": null,
      "outputs": []
    },
    {
      "cell_type": "code",
      "source": [
        "\"\"\"\n",
        "11. Faça um Programa que peça 2 números inteiros e um número real.\n",
        "Calcule e mostre:\n",
        "    a. o produto do dobro do primeiro com metade do segundo .\n",
        "    b. a soma do triplo do primeiro com o terceiro.\n",
        "    c. o terceiro elevado ao cubo.\n",
        "\"\"\"\n",
        "\n",
        "num1 = int(input('Digite um número inteiro: '))\n",
        "num2 = int(input('Digite outro número inteiro: '))\n",
        "num3 = float(input('Digite um número real: '))\n",
        "\n",
        "print(f'Produto do dobro do primeiro com metade do segundo: {(num1 * 2) * (num2 / 2)}')\n",
        "print(f'Soma do triplo do primeiro com o terceiro: {(num1 * 3) + num3}')\n",
        "print(f'Terceiro elevado ao cubo: {num3 ** 3}')"
      ],
      "metadata": {
        "id": "00a3WAAGHTA1"
      },
      "execution_count": null,
      "outputs": []
    },
    {
      "cell_type": "code",
      "source": [
        "#12. Tendo como dados de entrada a altura de uma pessoa, construa um algoritmo que calcule seu peso ideal, usando a seguinte fórmula: (72.7*altura) - 58\n",
        "\n",
        "altura = float(input('Digite sua altura (em metros): '))\n",
        "\n",
        "peso_ideal = (72.7 * altura) - 58\n",
        "\n",
        "print(f'Segundo calculo proposto seu peso ideal eh: {peso_ideal}')"
      ],
      "metadata": {
        "id": "iNZ-hwcyIBp_"
      },
      "execution_count": null,
      "outputs": []
    },
    {
      "cell_type": "code",
      "source": [
        "\"\"\"\n",
        "13. Tendo como dado de entrada a altura (h) de uma pessoa, construa um algoritmo que calcule seu peso ideal, utilizando as seguintes fórmulas:\n",
        "    a. Para homens: (72.7*h) - 58\n",
        "    b. Para mulheres: (62.1*h) - 44.7\n",
        "\"\"\"\n",
        "\n",
        "altura = float(input('Digite sua altura (em metros): '))\n",
        "genero = input('Digite seu gênero (M para masculino e F para feminino): ')\n",
        "\n",
        "if genero == 'M':\n",
        "    peso_ideal = (72.7 * altura) - 58\n",
        "    print(f'Peso ideal para homens: {peso_ideal:.2f} kg')\n",
        "else:\n",
        "    peso_ideal = (62.1 * altura) - 44.7\n",
        "    print(f'Peso ideal para mulheres: {peso_ideal:.2f} kg')"
      ],
      "metadata": {
        "id": "ECN8w7h3Ir6n"
      },
      "execution_count": null,
      "outputs": []
    },
    {
      "cell_type": "code",
      "source": [
        "\"\"\"\n",
        "14. João Papo-de-Pescador, homem de bem, comprou um microcomputador para controlar o rendimento diário de seu trabalho.\n",
        "Toda vez que ele traz um peso de peixes maior que o estabelecido pelo regulamento de pesca do estado de São Paulo (50 quilos)\n",
        "deve pagar uma multa de R$ 4,00 por quilo excedente. João precisa que você faça um programa que leia a variável peso (peso de peixes)\n",
        "e calcule o excesso. Gravar na variável excesso a quantidade de quilos além do limite e na variável multa o valor da multa que João deverá pagar.\n",
        "Imprima os dados do programa com as mensagens adequadas.\n",
        "\"\"\"\n",
        "\n",
        "peso = float(input('Qual o peso dos peixes (em kg)? '))\n",
        "excesso = peso - 50\n",
        "multa = excesso * 4\n",
        "\n",
        "if excesso > 0:\n",
        "    print(f'Peso excedido: {excesso}kg')\n",
        "    print(f'Valor da multa: R${multa:.2f}')\n",
        "else:\n",
        "    print('Nao houve excesso de peso')"
      ],
      "metadata": {
        "id": "f3sm5GGLJWj-"
      },
      "execution_count": null,
      "outputs": []
    },
    {
      "cell_type": "code",
      "source": [
        "\"\"\"\n",
        "15.Faça um Programa que pergunte quanto você ganha por hora e o número de horas trabalhadas no mês.\n",
        "Calcule e mostre o total do seu salário no referido mês,\n",
        "sabendo-se que são descontados 11% para o Imposto de Renda,\n",
        "8% para o INSS e 5% para o sindicato, faça um programa que nos dê:\n",
        "    a. salário bruto.\n",
        "    b. quanto pagou ao INSS.\n",
        "    c. quanto pagou ao sindicato.\n",
        "    d. o salário líquido.\n",
        "    e. calcule os descontos e o salário líquido, conforme a tabela abaixo:\n",
        "        + Salário Bruto : R$\n",
        "        - IR (11%) : R$\n",
        "        - INSS (8%) : R$\n",
        "        - Sindicato ( 5%) : R$\n",
        "        = Salário Liquido : R$\n",
        "\"\"\"\n",
        "\n",
        "salario_hora = float(input('Quanto voce ganha por hora? '))\n",
        "horas_trabalhadas = int(input('Quantas horas voce trabalhou no mês? '))\n",
        "\n",
        "salario_bruto = salario_hora * horas_trabalhadas\n",
        "ir = salario_bruto * 0.11\n",
        "inss = salario_bruto * 0.08\n",
        "sindicato = salario_bruto * 0.05\n",
        "salario_liquido = salario_bruto - ir - inss - sindicato\n",
        "\n",
        "print(f'Salario Bruto: R$ {salario_bruto:.2f}') #O .2f é para que retorne o valor do ponto flutuante com duas casas decimais\n",
        "print(f'IR (11%): R$ {ir:.2f}')\n",
        "print(f'INSS (8%): R$ {inss:.2f}')\n",
        "print(f'Sindicato (5%): R$ {sindicato:.2f}')\n",
        "print(f'Salario Liquido: R$ {salario_liquido:.2f}')"
      ],
      "metadata": {
        "id": "wADydrCcR12Z"
      },
      "execution_count": null,
      "outputs": []
    },
    {
      "cell_type": "code",
      "source": [
        "\"\"\"\n",
        "16. Faça um programa para uma loja de tintas. O programa deverá pedir o tamanho em metros quadrados da área a ser pintada.\n",
        "    Considere que a cobertura da tinta é de 1 litro para cada 3 metros quadrados e que a tinta é vendida em latas de 18 litros,\n",
        "    que custam R$ 80,00. Informe ao usuário a quantidades de latas de tinta a serem compradas e o preço total.\n",
        "\"\"\"\n",
        "\n",
        "area = float(input('Digite a area a ser pintada em metros quadrados: '))\n",
        "\n",
        "litros = area / 3\n",
        "latas = litros / 18\n",
        "custo = latas * 80\n",
        "\n",
        "print(f'Voce precisa comprar {latas:.2f} latas de tinta e o custo total eh de R${custo:.2f}')"
      ],
      "metadata": {
        "id": "qPYHbKQ0S55h"
      },
      "execution_count": null,
      "outputs": []
    },
    {
      "cell_type": "code",
      "source": [
        "'''\n",
        "Faça um Programa para uma loja de tintas. O programa deverá pedir o tamanho em metros quadrados da área a ser pintada.\n",
        "Considere que a cobertura da tinta é de 1 litro para cada 6 metros quadrados e que a tinta é vendida em latas de 18 litros,\n",
        "que custam R$ 80,00 ou em galões de 3,6 litros, que custam R$ 25,00.\n",
        "\n",
        "Informe ao usuário as quantidades de tinta a serem compradas e os respectivos preços em 3 situações:\n",
        "\n",
        "    a. comprar apenas latas de 18 litros;\n",
        "    b. comprar apenas galões de 3,6 litros;\n",
        "    c. misturar latas e galões, de forma que o desperdício de tinta seja menor.\n",
        "\n",
        "Acrescente 10% de folga e sempre arredonde os valores para cima, isto é, considere latas cheias.\n",
        "'''\n",
        "\n",
        "import math\n",
        "\n",
        "area_pintura = float(input(\"Informe o tamanho da área a ser pintada em metros quadrados: \"))\n",
        "\n",
        "def programa_para_pintura(area):\n",
        "    litros = math.ceil(area * 1.1 / 6)\n",
        "\n",
        "    latas = math.ceil(litros / 18)\n",
        "    custo_latas = latas * 80\n",
        "\n",
        "    galoes = math.ceil(litros / 3.6)\n",
        "    custo_galoes = galoes * 25\n",
        "\n",
        "    latas_mistura = litros // 18\n",
        "    sobra = litros % 18\n",
        "    galoes_mistura = math.ceil(sobra / 3.6)\n",
        "    custo_mistura = (latas_mistura * 80) + (galoes_mistura * 25)\n",
        "\n",
        "    print(f\"Apenas latas de 18L: {latas} lata(s), Custo: R$ {custo_latas:.2f}\")\n",
        "    print(f\"Apenas galões de 3,6L: {galoes} galão(ões), Custo: R$ {custo_galoes:.2f}\")\n",
        "    print(f\"Mix: {latas_mistura} lata(s) e {galoes_mistura} galão(ões), Custo: R$ {custo_mistura:.2f}\")\n",
        "\n",
        "programa_para_pintura(area_pintura)\n",
        "\n",
        "#Nota de Luísa: Talvez eu tenha complicado um pouco a solução desse aqui kkkk\n"
      ],
      "metadata": {
        "id": "8FzIamN_TYOQ"
      },
      "execution_count": null,
      "outputs": []
    },
    {
      "cell_type": "code",
      "source": [
        "'''\n",
        "18. Faça um programa que peça o tamanho de um arquivo para download (em MB) e a velocidade de um link de Internet (em Mbps),\n",
        "    calcule e informe o tempo aproximado de download do arquivo usando este link (em minutos).\n",
        "'''\n",
        "\n",
        "tamanho_arquivo = float(input('Digite o tamanho do arquivo em MB: '))\n",
        "velocidade_link = float(input('Digite a velocidade do link em Mbps: '))\n",
        "\n",
        "tempo_download = (tamanho_arquivo / velocidade_link) / 60\n",
        "\n",
        "print(f'O tempo aproximado de download do arquivo é de {tempo_download:.2f} minutos.')"
      ],
      "metadata": {
        "id": "7-ZK7I2ffJ8K"
      },
      "execution_count": null,
      "outputs": []
    }
  ]
}